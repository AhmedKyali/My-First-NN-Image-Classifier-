{
 "cells": [
  {
   "cell_type": "markdown",
   "metadata": {},
   "source": [
    "# Developing an AI application\n",
    "\n",
    "Going forward, AI algorithms will be incorporated into more and more everyday applications. For example, you might want to include an image classifier in a smart phone app. To do this, you'd use a deep learning model trained on hundreds of thousands of images as part of the overall application architecture. A large part of software development in the future will be using these types of models as common parts of applications. \n",
    "\n",
    "In this project, you'll train an image classifier to recognize different species of flowers. You can imagine using something like this in a phone app that tells you the name of the flower your camera is looking at. In practice you'd train this classifier, then export it for use in your application. We'll be using [this dataset](http://www.robots.ox.ac.uk/~vgg/data/flowers/102/index.html) of 102 flower categories, you can see a few examples below. \n",
    "\n",
    "<img src='assets/Flowers.png' width=500px>\n",
    "\n",
    "The project is broken down into multiple steps:\n",
    "\n",
    "* Load and preprocess the image dataset\n",
    "* Train the image classifier on your dataset\n",
    "* Use the trained classifier to predict image content\n",
    "\n",
    "We'll lead you through each part which you'll implement in Python.\n",
    "\n",
    "When you've completed this project, you'll have an application that can be trained on any set of labeled images. Here your network will be learning about flowers and end up as a command line application. But, what you do with your new skills depends on your imagination and effort in building a dataset. For example, imagine an app where you take a picture of a car, it tells you what the make and model is, then looks up information about it. Go build your own dataset and make something new.\n",
    "\n",
    "First up is importing the packages you'll need. It's good practice to keep all the imports at the beginning of your code. As you work through this notebook and find you need to import a package, make sure to add the import up here."
   ]
  },
  {
   "cell_type": "code",
   "execution_count": 130,
   "metadata": {},
   "outputs": [],
   "source": [
    "# Imports here\n",
    "import matplotlib.pyplot as plt\n",
    "from matplotlib.ticker import FormatStrFormatter\n",
    "import numpy as np\n",
    "import torch\n",
    "from torch import nn\n",
    "from torch import optim\n",
    "import torch.nn.functional as F\n",
    "from torchvision import datasets, transforms, models\n",
    "import torchvision.models as models\n",
    "from torchvision.datasets import ImageFolder\n",
    "from PIL import Image\n",
    "import json\n",
    "from collections import OrderedDict \n",
    "import torchvision\n",
    "from torch.utils import data"
   ]
  },
  {
   "cell_type": "markdown",
   "metadata": {},
   "source": [
    "## Load the data\n",
    "\n",
    "Here you'll use `torchvision` to load the data ([documentation](http://pytorch.org/docs/master/torchvision/transforms.html#)). The data should be included alongside this notebook, otherwise you can [download it here](https://s3.amazonaws.com/content.udacity-data.com/nd089/flower_data.tar.gz). The dataset is split into three parts, training, validation, and testing. For the training, you'll want to apply transformations such as random scaling, cropping, and flipping. This will help the network generalize leading to better performance. You'll also need to make sure the input data is resized to 224x224 pixels as required by the pre-trained networks.\n",
    "\n",
    "The validation and testing sets are used to measure the model's performance on data it hasn't seen yet. For this you don't want any scaling or rotation transformations, but you'll need to resize then crop the images to the appropriate size.\n",
    "\n",
    "For all three sets you'll need to normalize the means and standard deviations of the images to what the network expects. For the means, it's `[0.485, 0.456, 0.406]` and for the standard deviations `[0.229, 0.224, 0.225]`. This converts the values of each color channel to be between -1 and 1 instead of 0 and 1."
   ]
  },
  {
   "cell_type": "code",
   "execution_count": 131,
   "metadata": {},
   "outputs": [],
   "source": [
    "data_dir = 'flowers'\n",
    "train_dir = data_dir + '/train'\n",
    "valid_dir = data_dir + '/valid'\n",
    "test_dir = data_dir + '/test'"
   ]
  },
  {
   "cell_type": "code",
   "execution_count": 53,
   "metadata": {},
   "outputs": [],
   "source": [
    "def data_transform():\n",
    "    train_transforms = transforms.Compose([transforms.RandomRotation(30),\n",
    "                                         transforms.RandomResizedCrop(224),\n",
    "                                         transforms.RandomHorizontalFlip(),\n",
    "                                         transforms.ToTensor(),\n",
    "                                         transforms.Normalize([0.485, 0.456, 0.406], [0.229, 0.224, 0.225])\n",
    "                                         ])\n",
    "\n",
    "    test_transform = transforms.Compose([transforms.Resize(255),\n",
    "                                         transforms.CenterCrop(224),\n",
    "                                         transforms.ToTensor(),\n",
    "                                         transforms.Normalize([0.485, 0.456, 0.406], [0.229, 0.224, 0.225])\n",
    "                                         ])\n",
    "\n",
    "    train_data = ImageFolder(root=train_dir, transform=train_transforms)\n",
    "    valid_data = ImageFolder(root=valid_dir, transform=test_transform)\n",
    "    test_data = ImageFolder(root=test_dir, transform=test_transform)\n",
    "\n",
    "    train_loader = data.DataLoader(train_data, batch_size=64, shuffle=True)\n",
    "    valid_loader = data.DataLoader(valid_data, batch_size=64)\n",
    "    test_loader = data.DataLoader(test_data, batch_size=64)\n",
    "    "
   ]
  },
  {
   "cell_type": "markdown",
   "metadata": {},
   "source": [
    "### Label mapping\n",
    "\n",
    "You'll also need to load in a mapping from category label to category name. You can find this in the file `cat_to_name.json`. It's a JSON object which you can read in with the [`json` module](https://docs.python.org/2/library/json.html). This will give you a dictionary mapping the integer encoded categories to the actual names of the flowers."
   ]
  },
  {
   "cell_type": "code",
   "execution_count": 132,
   "metadata": {},
   "outputs": [],
   "source": [
    "import json\n",
    "\n",
    "with open('cat_to_name.json', 'r') as f:\n",
    "    cat_to_name = json.load(f)"
   ]
  },
  {
   "cell_type": "markdown",
   "metadata": {},
   "source": [
    "# Building and training the classifier\n",
    "\n",
    "Now that the data is ready, it's time to build and train the classifier. As usual, you should use one of the pretrained models from `torchvision.models` to get the image features. Build and train a new feed-forward classifier using those features.\n",
    "\n",
    "We're going to leave this part up to you. If you want to talk through it with someone, chat with your fellow students! You can also ask questions on the forums or join the instructors in office hours.\n",
    "\n",
    "Refer to [the rubric](https://review.udacity.com/#!/rubrics/1663/view) for guidance on successfully completing this section. Things you'll need to do:\n",
    "\n",
    "* Load a [pre-trained network](http://pytorch.org/docs/master/torchvision/models.html) (If you need a starting point, the VGG networks work great and are straightforward to use)\n",
    "* Define a new, untrained feed-forward network as a classifier, using ReLU activations and dropout\n",
    "* Train the classifier layers using backpropagation using the pre-trained network to get the features\n",
    "* Track the loss and accuracy on the validation set to determine the best hyperparameters\n",
    "\n",
    "We've left a cell open for you below, but use as many as you need. Our advice is to break the problem up into smaller parts you can run separately. Check that each part is doing what you expect, then move on to the next. You'll likely find that as you work through each part, you'll need to go back and modify your previous code. This is totally normal!\n",
    "\n",
    "When training make sure you're updating only the weights of the feed-forward network. You should be able to get the validation accuracy above 70% if you build everything right. Make sure to try different hyperparameters (learning rate, units in the classifier, epochs, etc) to find the best model. Save those hyperparameters to use as default values in the next part of the project."
   ]
  },
  {
   "cell_type": "code",
   "execution_count": 55,
   "metadata": {},
   "outputs": [],
   "source": [
    "# TODO: Build and train your network\n",
    "def network(lr=0.001):\n",
    "    model = torchvision.models.vgg16(pretrained=True)\n",
    "    for param in model.parameters():\n",
    "        param.requires_grad = False\n",
    "    our_classifier = nn.Sequential(OrderedDict([\n",
    "                          ('fc1', nn.Linear(25088, 2048)),\n",
    "                          ('relu', nn.ReLU()),\n",
    "                          ('fc2', nn.Linear(2048, 256)),\n",
    "                          ('relu', nn.ReLU()),\n",
    "                          ('fc3', nn.Linear(256, 102)),\n",
    "                          ('output', nn.LogSoftmax(dim=1))\n",
    "                          ]))\n",
    "    model.classifier=our_classifier\n",
    "    model = model.to('cuda')\n",
    "    criterion = nn.NLLLoss()\n",
    "    optimizer = optim.Adam(model.classifier.parameters(), lr)\n",
    "    return model, criterion, optimizer"
   ]
  },
  {
   "cell_type": "code",
   "execution_count": 56,
   "metadata": {
    "scrolled": true
   },
   "outputs": [
    {
     "data": {
      "text/plain": [
       "VGG(\n",
       "  (features): Sequential(\n",
       "    (0): Conv2d(3, 64, kernel_size=(3, 3), stride=(1, 1), padding=(1, 1))\n",
       "    (1): ReLU(inplace)\n",
       "    (2): Conv2d(64, 64, kernel_size=(3, 3), stride=(1, 1), padding=(1, 1))\n",
       "    (3): ReLU(inplace)\n",
       "    (4): MaxPool2d(kernel_size=2, stride=2, padding=0, dilation=1, ceil_mode=False)\n",
       "    (5): Conv2d(64, 128, kernel_size=(3, 3), stride=(1, 1), padding=(1, 1))\n",
       "    (6): ReLU(inplace)\n",
       "    (7): Conv2d(128, 128, kernel_size=(3, 3), stride=(1, 1), padding=(1, 1))\n",
       "    (8): ReLU(inplace)\n",
       "    (9): MaxPool2d(kernel_size=2, stride=2, padding=0, dilation=1, ceil_mode=False)\n",
       "    (10): Conv2d(128, 256, kernel_size=(3, 3), stride=(1, 1), padding=(1, 1))\n",
       "    (11): ReLU(inplace)\n",
       "    (12): Conv2d(256, 256, kernel_size=(3, 3), stride=(1, 1), padding=(1, 1))\n",
       "    (13): ReLU(inplace)\n",
       "    (14): Conv2d(256, 256, kernel_size=(3, 3), stride=(1, 1), padding=(1, 1))\n",
       "    (15): ReLU(inplace)\n",
       "    (16): MaxPool2d(kernel_size=2, stride=2, padding=0, dilation=1, ceil_mode=False)\n",
       "    (17): Conv2d(256, 512, kernel_size=(3, 3), stride=(1, 1), padding=(1, 1))\n",
       "    (18): ReLU(inplace)\n",
       "    (19): Conv2d(512, 512, kernel_size=(3, 3), stride=(1, 1), padding=(1, 1))\n",
       "    (20): ReLU(inplace)\n",
       "    (21): Conv2d(512, 512, kernel_size=(3, 3), stride=(1, 1), padding=(1, 1))\n",
       "    (22): ReLU(inplace)\n",
       "    (23): MaxPool2d(kernel_size=2, stride=2, padding=0, dilation=1, ceil_mode=False)\n",
       "    (24): Conv2d(512, 512, kernel_size=(3, 3), stride=(1, 1), padding=(1, 1))\n",
       "    (25): ReLU(inplace)\n",
       "    (26): Conv2d(512, 512, kernel_size=(3, 3), stride=(1, 1), padding=(1, 1))\n",
       "    (27): ReLU(inplace)\n",
       "    (28): Conv2d(512, 512, kernel_size=(3, 3), stride=(1, 1), padding=(1, 1))\n",
       "    (29): ReLU(inplace)\n",
       "    (30): MaxPool2d(kernel_size=2, stride=2, padding=0, dilation=1, ceil_mode=False)\n",
       "  )\n",
       "  (classifier): Sequential(\n",
       "    (fc1): Linear(in_features=25088, out_features=2048, bias=True)\n",
       "    (relu): ReLU()\n",
       "    (fc2): Linear(in_features=2048, out_features=256, bias=True)\n",
       "    (fc3): Linear(in_features=256, out_features=102, bias=True)\n",
       "    (output): LogSoftmax()\n",
       "  )\n",
       ")"
      ]
     },
     "execution_count": 56,
     "metadata": {},
     "output_type": "execute_result"
    }
   ],
   "source": [
    "model, criterion, optimizer = network()\n",
    "model"
   ]
  },
  {
   "cell_type": "code",
   "execution_count": 57,
   "metadata": {},
   "outputs": [
    {
     "name": "stdout",
     "output_type": "stream",
     "text": [
      "Epoch 1/3.. Loss: 5.441.. Validation Loss: 4.799.. Accuracy: 0.049\n",
      "Epoch 1/3.. Loss: 4.680.. Validation Loss: 3.754.. Accuracy: 0.246\n",
      "Epoch 1/3.. Loss: 3.819.. Validation Loss: 3.284.. Accuracy: 0.257\n",
      "Epoch 1/3.. Loss: 3.296.. Validation Loss: 2.848.. Accuracy: 0.332\n",
      "Epoch 1/3.. Loss: 2.952.. Validation Loss: 2.292.. Accuracy: 0.461\n",
      "Epoch 1/3.. Loss: 2.461.. Validation Loss: 2.008.. Accuracy: 0.500\n",
      "Epoch 1/3.. Loss: 2.351.. Validation Loss: 1.795.. Accuracy: 0.549\n",
      "Epoch 1/3.. Loss: 2.173.. Validation Loss: 1.466.. Accuracy: 0.606\n",
      "Epoch 1/3.. Loss: 1.931.. Validation Loss: 1.360.. Accuracy: 0.669\n",
      "Epoch 1/3.. Loss: 1.725.. Validation Loss: 1.352.. Accuracy: 0.650\n",
      "Epoch 1/3.. Loss: 1.936.. Validation Loss: 1.219.. Accuracy: 0.670\n",
      "Epoch 1/3.. Loss: 1.579.. Validation Loss: 1.218.. Accuracy: 0.679\n",
      "Epoch 1/3.. Loss: 1.621.. Validation Loss: 1.073.. Accuracy: 0.701\n",
      "Epoch 1/3.. Loss: 1.706.. Validation Loss: 1.074.. Accuracy: 0.701\n",
      "Epoch 1/3.. Loss: 1.514.. Validation Loss: 0.980.. Accuracy: 0.712\n",
      "Epoch 1/3.. Loss: 1.405.. Validation Loss: 0.957.. Accuracy: 0.731\n",
      "Epoch 1/3.. Loss: 1.388.. Validation Loss: 0.831.. Accuracy: 0.777\n",
      "Epoch 1/3.. Loss: 1.439.. Validation Loss: 0.877.. Accuracy: 0.737\n",
      "Epoch 1/3.. Loss: 1.186.. Validation Loss: 0.840.. Accuracy: 0.767\n",
      "Epoch 1/3.. Loss: 1.418.. Validation Loss: 0.859.. Accuracy: 0.743\n",
      "Epoch 2/3.. Loss: 0.370.. Validation Loss: 0.824.. Accuracy: 0.763\n",
      "Epoch 2/3.. Loss: 1.262.. Validation Loss: 0.793.. Accuracy: 0.781\n",
      "Epoch 2/3.. Loss: 1.074.. Validation Loss: 0.855.. Accuracy: 0.764\n",
      "Epoch 2/3.. Loss: 1.341.. Validation Loss: 0.874.. Accuracy: 0.757\n",
      "Epoch 2/3.. Loss: 1.006.. Validation Loss: 0.808.. Accuracy: 0.772\n",
      "Epoch 2/3.. Loss: 1.158.. Validation Loss: 0.704.. Accuracy: 0.799\n",
      "Epoch 2/3.. Loss: 1.061.. Validation Loss: 0.702.. Accuracy: 0.794\n",
      "Epoch 2/3.. Loss: 1.012.. Validation Loss: 0.716.. Accuracy: 0.818\n",
      "Epoch 2/3.. Loss: 1.046.. Validation Loss: 0.693.. Accuracy: 0.819\n",
      "Epoch 2/3.. Loss: 1.057.. Validation Loss: 0.794.. Accuracy: 0.781\n",
      "Epoch 2/3.. Loss: 1.146.. Validation Loss: 0.823.. Accuracy: 0.790\n",
      "Epoch 2/3.. Loss: 1.046.. Validation Loss: 0.767.. Accuracy: 0.803\n",
      "Epoch 2/3.. Loss: 1.000.. Validation Loss: 0.765.. Accuracy: 0.795\n",
      "Epoch 2/3.. Loss: 1.104.. Validation Loss: 0.718.. Accuracy: 0.797\n",
      "Epoch 2/3.. Loss: 0.984.. Validation Loss: 0.698.. Accuracy: 0.802\n",
      "Epoch 2/3.. Loss: 0.875.. Validation Loss: 0.654.. Accuracy: 0.809\n",
      "Epoch 2/3.. Loss: 0.963.. Validation Loss: 0.712.. Accuracy: 0.815\n",
      "Epoch 2/3.. Loss: 0.947.. Validation Loss: 0.607.. Accuracy: 0.827\n",
      "Epoch 2/3.. Loss: 1.124.. Validation Loss: 0.575.. Accuracy: 0.842\n",
      "Epoch 2/3.. Loss: 0.866.. Validation Loss: 0.670.. Accuracy: 0.813\n",
      "Epoch 2/3.. Loss: 1.107.. Validation Loss: 0.606.. Accuracy: 0.818\n",
      "Epoch 3/3.. Loss: 0.574.. Validation Loss: 0.663.. Accuracy: 0.823\n",
      "Epoch 3/3.. Loss: 0.939.. Validation Loss: 0.614.. Accuracy: 0.831\n",
      "Epoch 3/3.. Loss: 0.817.. Validation Loss: 0.659.. Accuracy: 0.831\n",
      "Epoch 3/3.. Loss: 0.824.. Validation Loss: 0.580.. Accuracy: 0.847\n",
      "Epoch 3/3.. Loss: 0.930.. Validation Loss: 0.600.. Accuracy: 0.837\n",
      "Epoch 3/3.. Loss: 1.057.. Validation Loss: 0.564.. Accuracy: 0.861\n",
      "Epoch 3/3.. Loss: 0.856.. Validation Loss: 0.608.. Accuracy: 0.834\n",
      "Epoch 3/3.. Loss: 0.990.. Validation Loss: 0.581.. Accuracy: 0.837\n",
      "Epoch 3/3.. Loss: 0.848.. Validation Loss: 0.546.. Accuracy: 0.843\n",
      "Epoch 3/3.. Loss: 0.810.. Validation Loss: 0.478.. Accuracy: 0.878\n",
      "Epoch 3/3.. Loss: 0.796.. Validation Loss: 0.557.. Accuracy: 0.857\n",
      "Epoch 3/3.. Loss: 0.932.. Validation Loss: 0.584.. Accuracy: 0.848\n",
      "Epoch 3/3.. Loss: 0.782.. Validation Loss: 0.569.. Accuracy: 0.850\n",
      "Epoch 3/3.. Loss: 0.875.. Validation Loss: 0.550.. Accuracy: 0.851\n",
      "Epoch 3/3.. Loss: 0.822.. Validation Loss: 0.545.. Accuracy: 0.848\n",
      "Epoch 3/3.. Loss: 0.744.. Validation Loss: 0.517.. Accuracy: 0.868\n",
      "Epoch 3/3.. Loss: 0.907.. Validation Loss: 0.558.. Accuracy: 0.852\n",
      "Epoch 3/3.. Loss: 0.939.. Validation Loss: 0.556.. Accuracy: 0.856\n",
      "Epoch 3/3.. Loss: 0.673.. Validation Loss: 0.621.. Accuracy: 0.844\n",
      "Epoch 3/3.. Loss: 0.862.. Validation Loss: 0.580.. Accuracy: 0.862\n"
     ]
    }
   ],
   "source": [
    "epochs = 3\n",
    "print_every = 5\n",
    "steps = 0\n",
    "\n",
    "for e in range(epochs):\n",
    "    running_loss = 0\n",
    "    for inputs, labels in train_loader:\n",
    "        steps += 1\n",
    "        \n",
    "        inputs, labels = inputs.to('cuda'), labels.to('cuda')\n",
    "        \n",
    "        optimizer.zero_grad()\n",
    "        \n",
    "        logps = model.forward(inputs)\n",
    "        loss = criterion(logps, labels)\n",
    "        loss.backward()\n",
    "        optimizer.step()\n",
    "        \n",
    "        running_loss += loss.item()\n",
    "        \n",
    "        if steps % print_every == 0:\n",
    "            model.eval()\n",
    "            valid_loss = 0\n",
    "            accuracy = 0\n",
    "            with torch.no_grad():\n",
    "                for inputs, labels in valid_loader:\n",
    "                    inputs, labels = inputs.to('cuda'), labels.to('cuda')\n",
    "                    \n",
    "                    log_ps = model.forward(inputs)\n",
    "                    batch_loss = criterion(log_ps, labels)\n",
    "                    valid_loss += batch_loss.item()\n",
    "                    \n",
    "                    ps = torch.exp(log_ps)\n",
    "                    top_p, top_class = ps.topk(1, dim=1)\n",
    "                    equals = top_class == labels.view(*top_class.shape)\n",
    "                    accuracy += torch.mean(equals.type(torch.FloatTensor)).item()\n",
    "            print(f\"Epoch {e+1}/{epochs}.. \"\n",
    "                  f\"Loss: {running_loss/print_every:.3f}.. \"\n",
    "                  f\"Validation Loss: {valid_loss/len(valid_loader):.3f}.. \"\n",
    "                  f\"Accuracy: {accuracy/len(valid_loader):.3f}\")\n",
    "            running_loss = 0\n",
    "            model.train()"
   ]
  },
  {
   "cell_type": "markdown",
   "metadata": {},
   "source": [
    "## Testing your network\n",
    "\n",
    "It's good practice to test your trained network on test data, images the network has never seen either in training or validation. This will give you a good estimate for the model's performance on completely new images. Run the test images through the network and measure the accuracy, the same way you did validation. You should be able to reach around 70% accuracy on the test set if the model has been trained well."
   ]
  },
  {
   "cell_type": "code",
   "execution_count": 58,
   "metadata": {},
   "outputs": [
    {
     "name": "stdout",
     "output_type": "stream",
     "text": [
      "Test Accuracy: 0.836\n"
     ]
    }
   ],
   "source": [
    "# TODO: Do validation on the test set\n",
    "model.eval()\n",
    "accuracy=0\n",
    "with torch.no_grad():\n",
    "    for inputs, labels in test_loader:\n",
    "        inputs, labels = inputs.to('cuda'), labels.to('cuda')\n",
    "        outputs = model(inputs)\n",
    "\n",
    "        ps = torch.exp(outputs)\n",
    "        top_p, top_class = ps.topk(1, dim=1)\n",
    "        equals = top_class == labels.view(*top_class.shape)\n",
    "        accuracy += torch.mean(equals.type(torch.FloatTensor)).item()\n",
    "\n",
    "final_accuracy = accuracy/len(test_loader)\n",
    "print(\"Test Accuracy: {:.3f}\".format(final_accuracy))       "
   ]
  },
  {
   "cell_type": "markdown",
   "metadata": {},
   "source": [
    "## Save the checkpoint\n",
    "\n",
    "Now that your network is trained, save the model so you can load it later for making predictions. You probably want to save other things such as the mapping of classes to indices which you get from one of the image datasets: `image_datasets['train'].class_to_idx`. You can attach this to the model as an attribute which makes inference easier later on.\n",
    "\n",
    "```model.class_to_idx = image_datasets['train'].class_to_idx```\n",
    "\n",
    "Remember that you'll want to completely rebuild the model later so you can use it for inference. Make sure to include any information you need in the checkpoint. If you want to load the model and keep training, you'll want to save the number of epochs as well as the optimizer state, `optimizer.state_dict`. You'll likely want to use this trained model in the next part of the project, so best to save it now."
   ]
  },
  {
   "cell_type": "code",
   "execution_count": 68,
   "metadata": {},
   "outputs": [
    {
     "name": "stdout",
     "output_type": "stream",
     "text": [
      "checkpoint saved!\n"
     ]
    }
   ],
   "source": [
    "# TODO: Save the checkpoint \n",
    "model.class_to_idx = train_data.class_to_idx\n",
    "torch.save = ({\n",
    "                'input_n': 25088,\n",
    "                'state_dict': model.state_dict(),\n",
    "                'class_to_idx': model.class_to_idx,\n",
    "                'optim' : optimizer.state_dict(),\n",
    "                'output_n': 102,\n",
    "                'lr': 0.001,\n",
    "                'classifier': model.classifier,\n",
    "                'epochs': epochs,\n",
    "                'structure': 'vgg16'\n",
    "             },'checkpoint.pth')\n",
    "print(\"checkpoint saved!\")"
   ]
  },
  {
   "cell_type": "markdown",
   "metadata": {},
   "source": [
    "## Loading the checkpoint\n",
    "\n",
    "At this point it's good to write a function that can load a checkpoint and rebuild the model. That way you can come back to this project and keep working on it without having to retrain the network."
   ]
  },
  {
   "cell_type": "code",
   "execution_count": 134,
   "metadata": {},
   "outputs": [],
   "source": [
    "# TODO: Write a function that loads a checkpoint and rebuilds the model\n",
    "checkpoint = torch.load('checkpoint.pth') \n",
    "model = getattr(models, checkpoint['structure'])(pretrained=True)\n",
    "model.to('cuda')\n",
    "model.classifier = checkpoint['classifier']\n",
    "model.input_size = checkpoint['input_n']\n",
    "model.load_state_dict(checkpoint['state_dict'])\n",
    "model.class_to_idx = checkpoint['class_to_idx']\n",
    "optimizer = optim.Adam(model.classifier.parameters(), lr=checkpoint['lr'])\n",
    "optimizer.load_state_dict(checkpoint['optim'])\n",
    "model.output_size = checkpoint['output_n']\n",
    "model.learning_rate = checkpoint['lr']\n",
    "model.epochs = checkpoint['epochs']"
   ]
  },
  {
   "cell_type": "markdown",
   "metadata": {},
   "source": [
    "# Inference for classification\n",
    "\n",
    "Now you'll write a function to use a trained network for inference. That is, you'll pass an image into the network and predict the class of the flower in the image. Write a function called `predict` that takes an image and a model, then returns the top $K$ most likely classes along with the probabilities. It should look like \n",
    "\n",
    "```python\n",
    "probs, classes = predict(image_path, model)\n",
    "print(probs)\n",
    "print(classes)\n",
    "> [ 0.01558163  0.01541934  0.01452626  0.01443549  0.01407339]\n",
    "> ['70', '3', '45', '62', '55']\n",
    "```\n",
    "\n",
    "First you'll need to handle processing the input image such that it can be used in your network. \n",
    "\n",
    "## Image Preprocessing\n",
    "\n",
    "You'll want to use `PIL` to load the image ([documentation](https://pillow.readthedocs.io/en/latest/reference/Image.html)). It's best to write a function that preprocesses the image so it can be used as input for the model. This function should process the images in the same manner used for training. \n",
    "\n",
    "First, resize the images where the shortest side is 256 pixels, keeping the aspect ratio. This can be done with the [`thumbnail`](http://pillow.readthedocs.io/en/3.1.x/reference/Image.html#PIL.Image.Image.thumbnail) or [`resize`](http://pillow.readthedocs.io/en/3.1.x/reference/Image.html#PIL.Image.Image.thumbnail) methods. Then you'll need to crop out the center 224x224 portion of the image.\n",
    "\n",
    "Color channels of images are typically encoded as integers 0-255, but the model expected floats 0-1. You'll need to convert the values. It's easiest with a Numpy array, which you can get from a PIL image like so `np_image = np.array(pil_image)`.\n",
    "\n",
    "As before, the network expects the images to be normalized in a specific way. For the means, it's `[0.485, 0.456, 0.406]` and for the standard deviations `[0.229, 0.224, 0.225]`. You'll want to subtract the means from each color channel, then divide by the standard deviation. \n",
    "\n",
    "And finally, PyTorch expects the color channel to be the first dimension but it's the third dimension in the PIL image and Numpy array. You can reorder dimensions using [`ndarray.transpose`](https://docs.scipy.org/doc/numpy-1.13.0/reference/generated/numpy.ndarray.transpose.html). The color channel needs to be first and retain the order of the other two dimensions."
   ]
  },
  {
   "cell_type": "code",
   "execution_count": 135,
   "metadata": {},
   "outputs": [],
   "source": [
    "def process_image(image):\n",
    "    ''' Scales, crops, and normalizes a PIL image for a PyTorch model,\n",
    "        returns an Numpy array\n",
    "    '''\n",
    "    # TODO: Process a PIL image for use in a PyTorch model\n",
    "    transformers = transforms.Compose([transforms.Resize(256)\n",
    "                                     ,transforms.CenterCrop(224)\n",
    "                                     ,transforms.ToTensor()\n",
    "                                     ,transforms.Normalize(\n",
    "                                      mean=[0.485, 0.456, 0.406]\n",
    "                                     ,std=[0.229, 0.224, 0.225])])\n",
    "    processed_img = transformers(image)\n",
    "    return processed_img\n"
   ]
  },
  {
   "cell_type": "markdown",
   "metadata": {},
   "source": [
    "To check your work, the function below converts a PyTorch tensor and displays it in the notebook. If your `process_image` function works, running the output through this function should return the original image (except for the cropped out portions)."
   ]
  },
  {
   "cell_type": "code",
   "execution_count": 136,
   "metadata": {},
   "outputs": [],
   "source": [
    "def imshow(image, ax=None, title=None):\n",
    "    \"\"\"Imshow for Tensor.\"\"\"\n",
    "    if ax is None:\n",
    "        fig, ax = plt.subplots()\n",
    "    \n",
    "    # PyTorch tensors assume the color channel is the first dimension\n",
    "    # but matplotlib assumes is the third dimension\n",
    "    image = image.numpy().transpose((1, 2, 0))\n",
    "    \n",
    "    # Undo preprocessing\n",
    "    mean = np.array([0.485, 0.456, 0.406])\n",
    "    std = np.array([0.229, 0.224, 0.225])\n",
    "    image = std * image + mean\n",
    "    \n",
    "    # Image needs to be clipped between 0 and 1 or it looks like noise when displayed\n",
    "    image = np.clip(image, 0, 1)\n",
    "    \n",
    "    ax.imshow(image)\n",
    "    \n",
    "    return ax"
   ]
  },
  {
   "cell_type": "markdown",
   "metadata": {},
   "source": [
    "## Class Prediction\n",
    "\n",
    "Once you can get images in the correct format, it's time to write a function for making predictions with your model. A common practice is to predict the top 5 or so (usually called top-$K$) most probable classes. You'll want to calculate the class probabilities then find the $K$ largest values.\n",
    "\n",
    "To get the top $K$ largest values in a tensor use [`x.topk(k)`](http://pytorch.org/docs/master/torch.html#torch.topk). This method returns both the highest `k` probabilities and the indices of those probabilities corresponding to the classes. You need to convert from these indices to the actual class labels using `class_to_idx` which hopefully you added to the model or from an `ImageFolder` you used to load the data ([see here](#Save-the-checkpoint)). Make sure to invert the dictionary so you get a mapping from index to class as well.\n",
    "\n",
    "Again, this method should take a path to an image and a model checkpoint, then return the probabilities and classes.\n",
    "\n",
    "```python\n",
    "probs, classes = predict(image_path, model)\n",
    "print(probs)\n",
    "print(classes)\n",
    "> [ 0.01558163  0.01541934  0.01452626  0.01443549  0.01407339]\n",
    "> ['70', '3', '45', '62', '55']\n",
    "```"
   ]
  },
  {
   "cell_type": "code",
   "execution_count": 137,
   "metadata": {},
   "outputs": [
    {
     "name": "stdout",
     "output_type": "stream",
     "text": [
      "tensor([[ 0.8643,  0.1014,  0.0225,  0.0063,  0.0026]], device='cuda:0')\n",
      "[1, 86, 76, 51, 83]\n"
     ]
    }
   ],
   "source": [
    "def predict(image_path, model, topk=5):\n",
    "    ''' Predict the class (or classes) of an image using a trained deep learning model.\n",
    "    '''\n",
    "    model.to('cuda')\n",
    "    image=Image.open(image_path)\n",
    "    #process the image to fit the model\n",
    "    processed_img = process_image(image)\n",
    "    processed_img = processed_img.unsqueeze_(0)\n",
    "    processed_img = processed_img.float()\n",
    "    #forward\n",
    "    with torch.no_grad():\n",
    "        out = model.forward(processed_img.cuda())\n",
    "    #softmax activation function \n",
    "    probs = F.softmax(out.data,dim=1)\n",
    "    top_probs = probs.topk(topk)[0][0]\n",
    "    \n",
    "    idx_to_class = {val: key for key, val in model.class_to_idx.items()}\n",
    "    top_classes = [np.int(idx_to_class[each]) for each in np.array(probs.topk(topk)[1][0])]\n",
    "    \n",
    "    return top_p, top_classes\n",
    "probs, classes= predict(path,model)\n",
    "print(probs)\n",
    "print(classes)"
   ]
  },
  {
   "cell_type": "markdown",
   "metadata": {},
   "source": [
    "## Sanity Checking\n",
    "\n",
    "Now that you can use a trained model for predictions, check to make sure it makes sense. Even if the testing accuracy is high, it's always good to check that there aren't obvious bugs. Use `matplotlib` to plot the probabilities for the top 5 classes as a bar graph, along with the input image. It should look like this:\n",
    "\n",
    "<img src='assets/inference_example.png' width=300px>\n",
    "\n",
    "You can convert from the class integer encoding to actual flower names with the `cat_to_name.json` file (should have been loaded earlier in the notebook). To show a PyTorch tensor as an image, use the `imshow` function defined above."
   ]
  },
  {
   "cell_type": "code",
   "execution_count": 150,
   "metadata": {},
   "outputs": [],
   "source": [
    "#path= test_dir+'/16/image_06657.jpg'\n",
    "#path= test_dir+'/16/image_06673.jpg'\n",
    "path= test_dir+'/29/image_04095.jpg'"
   ]
  },
  {
   "cell_type": "code",
   "execution_count": 151,
   "metadata": {},
   "outputs": [],
   "source": [
    "def check(path,model):\n",
    "    probs, classes = predict(path, model)\n",
    "    image = process_image(Image.open(path))\n",
    "    plt.subplot(211)    \n",
    "    ax_1 = imshow(image, ax = plt)\n",
    "    ax_1.axis('off')\n",
    "    top_class = classes[0]\n",
    "    ax_1.title(cat_to_name[str(top_class)])\n",
    "    ax_1.show()\n",
    "\n",
    "    labels = [cat_to_name[str(index)] for index in classes]\n",
    "    y_pos = np.arange(len(labels))\n",
    "    plt.barh(y_pos, probs[0], align='center')\n",
    "    plt.yticks(y_pos, labels)\n",
    "    plt.gca().invert_yaxis()"
   ]
  },
  {
   "cell_type": "code",
   "execution_count": 152,
   "metadata": {},
   "outputs": [
    {
     "data": {
      "image/png": "[encoded data removed]",
      "text/plain": [
       "<matplotlib.figure.Figure at 0x7f454c0aab70>"
      ]
     },
     "metadata": {},
     "output_type": "display_data"
    },
    {
     "data": {
      "image/png": "[encoded data removed]",
      "text/plain": [
       "<matplotlib.figure.Figure at 0x7f454fbfcdd8>"
      ]
     },
     "metadata": {},
     "output_type": "display_data"
    }
   ],
   "source": [
    "check(path,model)"
   ]
  },
  {
   "cell_type": "code",
   "execution_count": null,
   "metadata": {},
   "outputs": [],
   "source": []
  }
 ],
 "metadata": {
  "kernelspec": {
   "display_name": "Python 3",
   "language": "python",
   "name": "python3"
  },
  "language_info": {
   "codemirror_mode": {
    "name": "ipython",
    "version": 3
   },
   "file_extension": ".py",
   "mimetype": "text/x-python",
   "name": "python",
   "nbconvert_exporter": "python",
   "pygments_lexer": "ipython3",
   "version": "3.6.3"
  }
 },
 "nbformat": 4,
 "nbformat_minor": 2
}
